{
 "cells": [
  {
   "cell_type": "code",
   "execution_count": 2,
   "id": "68795ac9",
   "metadata": {},
   "outputs": [],
   "source": [
    "import requests\n",
    "from bs4 import BeautifulSoup\n",
    "import pandas as pd"
   ]
  },
  {
   "cell_type": "code",
   "execution_count": 3,
   "id": "65cf2b3e",
   "metadata": {},
   "outputs": [],
   "source": [
    "url = 'https://www.boxofficemojo.com/title/tt15398776/'#To scrap the barbie table use \"https://www.boxofficemojo.com/title/tt1517268/\" as the url\n",
    "response = requests.get(url)"
   ]
  },
  {
   "cell_type": "code",
   "execution_count": 4,
   "id": "9631bd09",
   "metadata": {},
   "outputs": [],
   "source": [
    "soup = BeautifulSoup(response.text, 'html.parser')"
   ]
  },
  {
   "cell_type": "code",
   "execution_count": 5,
   "id": "62b996d8",
   "metadata": {},
   "outputs": [],
   "source": [
    "table = soup.find_all('table',class_='a-bordered a-horizontal-stripes a-size-base-plus')\n",
    "table1=soup.find_all('table',class_='a-bordered a-horizontal-stripes a-size-base-plus')[0]"
   ]
  },
  {
   "cell_type": "code",
   "execution_count": 6,
   "id": "6ec88958",
   "metadata": {},
   "outputs": [],
   "source": [
    "headers = [] #create the headers for the Dataframe using the html tag <th>\n",
    "for i in table1.find_all(\"th\"):\n",
    " title = i.text.strip()\n",
    " headers.append(title)"
   ]
  },
  {
   "cell_type": "code",
   "execution_count": 7,
   "id": "a1925ab8",
   "metadata": {},
   "outputs": [],
   "source": [
    "dt = pd.DataFrame(columns = headers)"
   ]
  },
  {
   "cell_type": "code",
   "execution_count": 10,
   "id": "47cfbb16",
   "metadata": {},
   "outputs": [],
   "source": [
    "def scrap_tables(table1):  #Using the tags <tr> and <td> we locate the data and create the rows of our dataframe\n",
    "    for i in table1.find_all(\"tr\")[1:]:\n",
    "     row_data = i.find_all(\"td\")\n",
    "     row = [j.text for j in row_data]\n",
    "     length = len(dt)\n",
    "     dt.loc[length] = row"
   ]
  },
  {
   "cell_type": "code",
   "execution_count": 11,
   "id": "15a2e6cb",
   "metadata": {},
   "outputs": [],
   "source": [
    "for tab in table: #The web contains multiple tables, we iterate every single one \n",
    "    scrap_tables(tab)"
   ]
  },
  {
   "cell_type": "code",
   "execution_count": 12,
   "id": "f33d7871",
   "metadata": {},
   "outputs": [
    {
     "data": {
      "text/html": [
       "<div>\n",
       "<style scoped>\n",
       "    .dataframe tbody tr th:only-of-type {\n",
       "        vertical-align: middle;\n",
       "    }\n",
       "\n",
       "    .dataframe tbody tr th {\n",
       "        vertical-align: top;\n",
       "    }\n",
       "\n",
       "    .dataframe thead th {\n",
       "        text-align: right;\n",
       "    }\n",
       "</style>\n",
       "<table border=\"1\" class=\"dataframe\">\n",
       "  <thead>\n",
       "    <tr style=\"text-align: right;\">\n",
       "      <th></th>\n",
       "      <th>Area</th>\n",
       "      <th>Release Date</th>\n",
       "      <th>Opening</th>\n",
       "      <th>Gross</th>\n",
       "    </tr>\n",
       "  </thead>\n",
       "  <tbody>\n",
       "    <tr>\n",
       "      <th>0</th>\n",
       "      <td>Domestic</td>\n",
       "      <td>Jul 21, 2023</td>\n",
       "      <td>$82,455,420</td>\n",
       "      <td>$245,469,475</td>\n",
       "    </tr>\n",
       "    <tr>\n",
       "      <th>1</th>\n",
       "      <td>United Kingdom</td>\n",
       "      <td>Jul 21, 2023</td>\n",
       "      <td>$13,914,966</td>\n",
       "      <td>$49,912,723</td>\n",
       "    </tr>\n",
       "    <tr>\n",
       "      <th>2</th>\n",
       "      <td>Germany</td>\n",
       "      <td>Jul 20, 2023</td>\n",
       "      <td>$6,646,885</td>\n",
       "      <td>$28,593,012</td>\n",
       "    </tr>\n",
       "    <tr>\n",
       "      <th>3</th>\n",
       "      <td>France</td>\n",
       "      <td>Jul 19, 2023</td>\n",
       "      <td>$6,933,935</td>\n",
       "      <td>$24,402,152</td>\n",
       "    </tr>\n",
       "    <tr>\n",
       "      <th>4</th>\n",
       "      <td>Spain</td>\n",
       "      <td>Jul 21, 2023</td>\n",
       "      <td>$3,075,484</td>\n",
       "      <td>$13,413,635</td>\n",
       "    </tr>\n",
       "    <tr>\n",
       "      <th>...</th>\n",
       "      <td>...</td>\n",
       "      <td>...</td>\n",
       "      <td>...</td>\n",
       "      <td>...</td>\n",
       "    </tr>\n",
       "    <tr>\n",
       "      <th>65</th>\n",
       "      <td>Malaysia</td>\n",
       "      <td>Jul 20, 2023</td>\n",
       "      <td>$833,740</td>\n",
       "      <td>$2,156,555</td>\n",
       "    </tr>\n",
       "    <tr>\n",
       "      <th>66</th>\n",
       "      <td>Pakistan</td>\n",
       "      <td>Jul 21, 2023</td>\n",
       "      <td>$202,754</td>\n",
       "      <td>$490,559</td>\n",
       "    </tr>\n",
       "    <tr>\n",
       "      <th>67</th>\n",
       "      <td>Sri Lanka</td>\n",
       "      <td>Jul 21, 2023</td>\n",
       "      <td>$50,683</td>\n",
       "      <td>$153,313</td>\n",
       "    </tr>\n",
       "    <tr>\n",
       "      <th>68</th>\n",
       "      <td>Bangladesh</td>\n",
       "      <td>Jul 21, 2023</td>\n",
       "      <td>$40,859</td>\n",
       "      <td>$124,936</td>\n",
       "    </tr>\n",
       "    <tr>\n",
       "      <th>69</th>\n",
       "      <td>Mongolia</td>\n",
       "      <td>Jul 21, 2023</td>\n",
       "      <td>$33,454</td>\n",
       "      <td>$113,891</td>\n",
       "    </tr>\n",
       "  </tbody>\n",
       "</table>\n",
       "<p>70 rows × 4 columns</p>\n",
       "</div>"
      ],
      "text/plain": [
       "              Area  Release Date      Opening         Gross\n",
       "0         Domestic  Jul 21, 2023  $82,455,420  $245,469,475\n",
       "1   United Kingdom  Jul 21, 2023  $13,914,966   $49,912,723\n",
       "2          Germany  Jul 20, 2023   $6,646,885   $28,593,012\n",
       "3           France  Jul 19, 2023   $6,933,935   $24,402,152\n",
       "4            Spain  Jul 21, 2023   $3,075,484   $13,413,635\n",
       "..             ...           ...          ...           ...\n",
       "65        Malaysia  Jul 20, 2023     $833,740    $2,156,555\n",
       "66        Pakistan  Jul 21, 2023     $202,754      $490,559\n",
       "67       Sri Lanka  Jul 21, 2023      $50,683      $153,313\n",
       "68      Bangladesh  Jul 21, 2023      $40,859      $124,936\n",
       "69        Mongolia  Jul 21, 2023      $33,454      $113,891\n",
       "\n",
       "[70 rows x 4 columns]"
      ]
     },
     "execution_count": 12,
     "metadata": {},
     "output_type": "execute_result"
    }
   ],
   "source": [
    "dt"
   ]
  },
  {
   "cell_type": "code",
   "execution_count": 13,
   "id": "44382b3f",
   "metadata": {},
   "outputs": [],
   "source": [
    "dt.to_excel(\"Oppenheimer_box_ofice.xlsx\") #Transform the data in an excel spreadsheet"
   ]
  },
  {
   "cell_type": "code",
   "execution_count": null,
   "id": "31a0e11b",
   "metadata": {},
   "outputs": [],
   "source": []
  }
 ],
 "metadata": {
  "kernelspec": {
   "display_name": "Python 3 (ipykernel)",
   "language": "python",
   "name": "python3"
  },
  "language_info": {
   "codemirror_mode": {
    "name": "ipython",
    "version": 3
   },
   "file_extension": ".py",
   "mimetype": "text/x-python",
   "name": "python",
   "nbconvert_exporter": "python",
   "pygments_lexer": "ipython3",
   "version": "3.11.3"
  }
 },
 "nbformat": 4,
 "nbformat_minor": 5
}
